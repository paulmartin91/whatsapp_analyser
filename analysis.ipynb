{
 "cells": [
  {
   "cell_type": "code",
   "execution_count": 1,
   "metadata": {},
   "outputs": [],
   "source": [
    "import re\n",
    "import pandas as pd\n",
    "\n",
    "# Path to your WhatsApp export file\n",
    "file_path = \"whatsapp_export/WhatsApp Chat with Bitches!!.txt\"\n",
    "\n",
    "# Define a pattern to match WhatsApp messages\n",
    "pattern = r\"(?P<timestamp>\\d{1,2}/\\d{1,2}/\\d{1,2}, \\d{1,2}:\\d{1,2}) - (?P<sender>[^:]+): (?P<message>.+)\"\n",
    "\n",
    "# Lists to store parsed data\n",
    "timestamps = []\n",
    "senders = []\n",
    "messages = []\n",
    "\n",
    "with open(file_path, \"r\", encoding=\"utf-8\") as file:\n",
    "    current_message = None\n",
    "    for line in file:\n",
    "        line = line.strip()\n",
    "        if match := re.match(pattern, line):\n",
    "            # Extract groups\n",
    "            matches_dict = match.groupdict()\n",
    "            timestamps.append(matches_dict.get('timestamp'))\n",
    "            senders.append(matches_dict.get('sender'))\n",
    "            messages.append(matches_dict.get('message'))\n",
    "            current_message = len(messages) - 1\n",
    "        elif current_message is not None:\n",
    "            # Handle multi-line messages\n",
    "            messages[current_message] += f\" {line}\"\n",
    "\n",
    "# Create a DataFrame\n",
    "df = pd.DataFrame({\n",
    "    \"Timestamp\": timestamps,\n",
    "    \"Sender\": senders,\n",
    "    \"Message\": messages\n",
    "})\n",
    "\n",
    "# Convert Timestamp column to datetime\n",
    "# df[\"Timestamp\"] = pd.to_datetime(df[\"Timestamp\"], format=\"%d/%m/%Y, %H:%M\")\n"
   ]
  },
  {
   "cell_type": "code",
   "execution_count": 2,
   "metadata": {},
   "outputs": [],
   "source": [
    "df['Timestamp'] = pd.to_datetime(df['Timestamp'], format='%m/%d/%y, %H:%M')"
   ]
  },
  {
   "cell_type": "code",
   "execution_count": 3,
   "metadata": {},
   "outputs": [
    {
     "data": {
      "text/html": [
       "<div>\n",
       "<style scoped>\n",
       "    .dataframe tbody tr th:only-of-type {\n",
       "        vertical-align: middle;\n",
       "    }\n",
       "\n",
       "    .dataframe tbody tr th {\n",
       "        vertical-align: top;\n",
       "    }\n",
       "\n",
       "    .dataframe thead th {\n",
       "        text-align: right;\n",
       "    }\n",
       "</style>\n",
       "<table border=\"1\" class=\"dataframe\">\n",
       "  <thead>\n",
       "    <tr style=\"text-align: right;\">\n",
       "      <th></th>\n",
       "      <th>Timestamp</th>\n",
       "      <th>Sender</th>\n",
       "      <th>Message</th>\n",
       "    </tr>\n",
       "  </thead>\n",
       "  <tbody>\n",
       "    <tr>\n",
       "      <th>0</th>\n",
       "      <td>2020-03-11 11:10:00</td>\n",
       "      <td>Nathan Woods</td>\n",
       "      <td>They think theres a recession coming so they d...</td>\n",
       "    </tr>\n",
       "    <tr>\n",
       "      <th>1</th>\n",
       "      <td>2020-03-11 11:10:00</td>\n",
       "      <td>George Walker</td>\n",
       "      <td>Is this not in response to the largest drop in...</td>\n",
       "    </tr>\n",
       "    <tr>\n",
       "      <th>2</th>\n",
       "      <td>2020-03-11 11:10:00</td>\n",
       "      <td>Nathan Woods</td>\n",
       "      <td>Someone is peppering ours i can hear it 🤮</td>\n",
       "    </tr>\n",
       "    <tr>\n",
       "      <th>3</th>\n",
       "      <td>2020-03-11 11:10:00</td>\n",
       "      <td>Tom Fain</td>\n",
       "      <td>To be fair the media hype up everything anyway...</td>\n",
       "    </tr>\n",
       "    <tr>\n",
       "      <th>4</th>\n",
       "      <td>2020-03-11 11:11:00</td>\n",
       "      <td>Jamie Collinge</td>\n",
       "      <td>The financial crisis was as a result of finaci...</td>\n",
       "    </tr>\n",
       "    <tr>\n",
       "      <th>...</th>\n",
       "      <td>...</td>\n",
       "      <td>...</td>\n",
       "      <td>...</td>\n",
       "    </tr>\n",
       "    <tr>\n",
       "      <th>99928</th>\n",
       "      <td>2024-11-28 18:35:00</td>\n",
       "      <td>Paul Martin</td>\n",
       "      <td>I feel like his last few have sounded a bit ge...</td>\n",
       "    </tr>\n",
       "    <tr>\n",
       "      <th>99929</th>\n",
       "      <td>2024-11-28 18:36:00</td>\n",
       "      <td>Nathan Woods</td>\n",
       "      <td>I expected nig things since the beef!!</td>\n",
       "    </tr>\n",
       "    <tr>\n",
       "      <th>99930</th>\n",
       "      <td>2024-11-28 18:38:00</td>\n",
       "      <td>Ben Huchinson</td>\n",
       "      <td>I feel so old I have no idea what you guys are...</td>\n",
       "    </tr>\n",
       "    <tr>\n",
       "      <th>99931</th>\n",
       "      <td>2024-11-30 12:06:00</td>\n",
       "      <td>Paul Martin</td>\n",
       "      <td>Happy birthday @447740557623 xx</td>\n",
       "    </tr>\n",
       "    <tr>\n",
       "      <th>99932</th>\n",
       "      <td>2024-11-30 12:12:00</td>\n",
       "      <td>Raad Alani</td>\n",
       "      <td>Happy bday linc the sink</td>\n",
       "    </tr>\n",
       "  </tbody>\n",
       "</table>\n",
       "<p>99933 rows × 3 columns</p>\n",
       "</div>"
      ],
      "text/plain": [
       "                Timestamp          Sender  \\\n",
       "0     2020-03-11 11:10:00    Nathan Woods   \n",
       "1     2020-03-11 11:10:00   George Walker   \n",
       "2     2020-03-11 11:10:00    Nathan Woods   \n",
       "3     2020-03-11 11:10:00        Tom Fain   \n",
       "4     2020-03-11 11:11:00  Jamie Collinge   \n",
       "...                   ...             ...   \n",
       "99928 2024-11-28 18:35:00     Paul Martin   \n",
       "99929 2024-11-28 18:36:00    Nathan Woods   \n",
       "99930 2024-11-28 18:38:00   Ben Huchinson   \n",
       "99931 2024-11-30 12:06:00     Paul Martin   \n",
       "99932 2024-11-30 12:12:00      Raad Alani   \n",
       "\n",
       "                                                 Message  \n",
       "0      They think theres a recession coming so they d...  \n",
       "1      Is this not in response to the largest drop in...  \n",
       "2              Someone is peppering ours i can hear it 🤮  \n",
       "3      To be fair the media hype up everything anyway...  \n",
       "4      The financial crisis was as a result of finaci...  \n",
       "...                                                  ...  \n",
       "99928  I feel like his last few have sounded a bit ge...  \n",
       "99929             I expected nig things since the beef!!  \n",
       "99930  I feel so old I have no idea what you guys are...  \n",
       "99931                    Happy birthday @447740557623 xx  \n",
       "99932                           Happy bday linc the sink  \n",
       "\n",
       "[99933 rows x 3 columns]"
      ]
     },
     "execution_count": 3,
     "metadata": {},
     "output_type": "execute_result"
    }
   ],
   "source": [
    "df"
   ]
  },
  {
   "cell_type": "code",
   "execution_count": 4,
   "metadata": {},
   "outputs": [
    {
     "data": {
      "text/html": [
       "<div>\n",
       "<style scoped>\n",
       "    .dataframe tbody tr th:only-of-type {\n",
       "        vertical-align: middle;\n",
       "    }\n",
       "\n",
       "    .dataframe tbody tr th {\n",
       "        vertical-align: top;\n",
       "    }\n",
       "\n",
       "    .dataframe thead th {\n",
       "        text-align: right;\n",
       "    }\n",
       "</style>\n",
       "<table border=\"1\" class=\"dataframe\">\n",
       "  <thead>\n",
       "    <tr style=\"text-align: right;\">\n",
       "      <th></th>\n",
       "      <th>Timestamp</th>\n",
       "      <th>Sender</th>\n",
       "      <th>Message</th>\n",
       "    </tr>\n",
       "  </thead>\n",
       "  <tbody>\n",
       "    <tr>\n",
       "      <th>105</th>\n",
       "      <td>2020-03-11 20:02:00</td>\n",
       "      <td>Mike</td>\n",
       "      <td>Mental</td>\n",
       "    </tr>\n",
       "    <tr>\n",
       "      <th>106</th>\n",
       "      <td>2020-03-11 20:03:00</td>\n",
       "      <td>Mike</td>\n",
       "      <td>Would also be interesting to see if they think...</td>\n",
       "    </tr>\n",
       "    <tr>\n",
       "      <th>107</th>\n",
       "      <td>2020-03-11 20:03:00</td>\n",
       "      <td>Mike</td>\n",
       "      <td>I would like to think so but would interesting</td>\n",
       "    </tr>\n",
       "    <tr>\n",
       "      <th>112</th>\n",
       "      <td>2020-03-11 20:06:00</td>\n",
       "      <td>Mike</td>\n",
       "      <td>Saw a labour mp gunning down tories but their ...</td>\n",
       "    </tr>\n",
       "    <tr>\n",
       "      <th>113</th>\n",
       "      <td>2020-03-11 20:06:00</td>\n",
       "      <td>Mike</td>\n",
       "      <td>Now*</td>\n",
       "    </tr>\n",
       "    <tr>\n",
       "      <th>...</th>\n",
       "      <td>...</td>\n",
       "      <td>...</td>\n",
       "      <td>...</td>\n",
       "    </tr>\n",
       "    <tr>\n",
       "      <th>99630</th>\n",
       "      <td>2024-10-26 09:12:00</td>\n",
       "      <td>Mike</td>\n",
       "      <td>So good</td>\n",
       "    </tr>\n",
       "    <tr>\n",
       "      <th>99752</th>\n",
       "      <td>2024-11-08 13:28:00</td>\n",
       "      <td>Mike</td>\n",
       "      <td>Yea na I think the red cross were handing out ...</td>\n",
       "    </tr>\n",
       "    <tr>\n",
       "      <th>99764</th>\n",
       "      <td>2024-11-08 15:16:00</td>\n",
       "      <td>Mike</td>\n",
       "      <td>So Raad is MAGA?</td>\n",
       "    </tr>\n",
       "    <tr>\n",
       "      <th>99823</th>\n",
       "      <td>2024-11-15 11:27:00</td>\n",
       "      <td>Mike</td>\n",
       "      <td>Tune</td>\n",
       "    </tr>\n",
       "    <tr>\n",
       "      <th>99922</th>\n",
       "      <td>2024-11-27 12:20:00</td>\n",
       "      <td>Mike</td>\n",
       "      <td>Happy birthday sexy x</td>\n",
       "    </tr>\n",
       "  </tbody>\n",
       "</table>\n",
       "<p>11836 rows × 3 columns</p>\n",
       "</div>"
      ],
      "text/plain": [
       "                Timestamp Sender  \\\n",
       "105   2020-03-11 20:02:00   Mike   \n",
       "106   2020-03-11 20:03:00   Mike   \n",
       "107   2020-03-11 20:03:00   Mike   \n",
       "112   2020-03-11 20:06:00   Mike   \n",
       "113   2020-03-11 20:06:00   Mike   \n",
       "...                   ...    ...   \n",
       "99630 2024-10-26 09:12:00   Mike   \n",
       "99752 2024-11-08 13:28:00   Mike   \n",
       "99764 2024-11-08 15:16:00   Mike   \n",
       "99823 2024-11-15 11:27:00   Mike   \n",
       "99922 2024-11-27 12:20:00   Mike   \n",
       "\n",
       "                                                 Message  \n",
       "105                                               Mental  \n",
       "106    Would also be interesting to see if they think...  \n",
       "107       I would like to think so but would interesting  \n",
       "112    Saw a labour mp gunning down tories but their ...  \n",
       "113                                                 Now*  \n",
       "...                                                  ...  \n",
       "99630                                            So good  \n",
       "99752  Yea na I think the red cross were handing out ...  \n",
       "99764                                   So Raad is MAGA?  \n",
       "99823                                               Tune  \n",
       "99922                              Happy birthday sexy x  \n",
       "\n",
       "[11836 rows x 3 columns]"
      ]
     },
     "execution_count": 4,
     "metadata": {},
     "output_type": "execute_result"
    }
   ],
   "source": [
    "df[df['Sender'] == 'Mike']"
   ]
  },
  {
   "cell_type": "code",
   "execution_count": 5,
   "metadata": {},
   "outputs": [
    {
     "data": {
      "text/plain": [
       "Sender\n",
       "+351 930 642 050         139\n",
       "Chris Williams           243\n",
       "+44 7957 134271          698\n",
       "+351 932 720 693        1102\n",
       "Skelly                  1214\n",
       "Tom Fain                1874\n",
       "+351 926 233 694        2757\n",
       "Laurens Whittingham     3173\n",
       "Alex Sloane xxx         4119\n",
       "Ben Huchinson           4248\n",
       "Jamie Collinge          5099\n",
       "George Walker           5909\n",
       "Jordan Eves             6067\n",
       "Jl                      7536\n",
       "Paul Martin             7619\n",
       "Ollie Sales             7826\n",
       "Ryan Rees               8976\n",
       "Raad Alani              9377\n",
       "Nathan Woods           10121\n",
       "Mike                   11836\n",
       "Name: Message, dtype: int64"
      ]
     },
     "execution_count": 5,
     "metadata": {},
     "output_type": "execute_result"
    }
   ],
   "source": [
    "df.groupby('Sender')['Message'].count().sort_values()"
   ]
  },
  {
   "cell_type": "code",
   "execution_count": 6,
   "metadata": {},
   "outputs": [],
   "source": [
    "from textblob import TextBlob"
   ]
  },
  {
   "cell_type": "code",
   "execution_count": 7,
   "metadata": {},
   "outputs": [],
   "source": [
    "# Define a function to analyze sentiment\n",
    "def get_sentiment(text):\n",
    "    blob = TextBlob(text)\n",
    "    return blob.sentiment.polarity  # returns a polarity score between -1 and 1\n",
    "\n",
    "# Apply sentiment analysis to the DataFrame\n",
    "df['Sentiment'] = df['Message'].apply(get_sentiment)"
   ]
  },
  {
   "cell_type": "code",
   "execution_count": 18,
   "metadata": {},
   "outputs": [
    {
     "data": {
      "text/plain": [
       "<Axes: xlabel='Sender'>"
      ]
     },
     "execution_count": 18,
     "metadata": {},
     "output_type": "execute_result"
    },
    {
     "data": {
      "image/png": "[encoded data removed]",
      "text/plain": [
       "<Figure size 640x480 with 1 Axes>"
      ]
     },
     "metadata": {},
     "output_type": "display_data"
    }
   ],
   "source": [
    "df.groupby('Sender')['Sentiment'].mean().sort_values().plot(kind='bar')"
   ]
  },
  {
   "cell_type": "code",
   "execution_count": 24,
   "metadata": {},
   "outputs": [
    {
     "data": {
      "text/html": [
       "<div>\n",
       "<style scoped>\n",
       "    .dataframe tbody tr th:only-of-type {\n",
       "        vertical-align: middle;\n",
       "    }\n",
       "\n",
       "    .dataframe tbody tr th {\n",
       "        vertical-align: top;\n",
       "    }\n",
       "\n",
       "    .dataframe thead th {\n",
       "        text-align: right;\n",
       "    }\n",
       "</style>\n",
       "<table border=\"1\" class=\"dataframe\">\n",
       "  <thead>\n",
       "    <tr style=\"text-align: right;\">\n",
       "      <th></th>\n",
       "      <th>Timestamp</th>\n",
       "      <th>Sender</th>\n",
       "      <th>Message</th>\n",
       "      <th>Sentiment</th>\n",
       "      <th>n_fucks</th>\n",
       "      <th>Emoji Count</th>\n",
       "      <th>message_len</th>\n",
       "    </tr>\n",
       "  </thead>\n",
       "  <tbody>\n",
       "    <tr>\n",
       "      <th>976</th>\n",
       "      <td>2020-03-15 14:27:00</td>\n",
       "      <td>Alex Sloane xxx</td>\n",
       "      <td>Looked like the worst skier out of all of us.....</td>\n",
       "      <td>-1.0</td>\n",
       "      <td>0</td>\n",
       "      <td>3</td>\n",
       "      <td>53</td>\n",
       "    </tr>\n",
       "    <tr>\n",
       "      <th>1875</th>\n",
       "      <td>2020-03-18 12:10:00</td>\n",
       "      <td>Mike</td>\n",
       "      <td>Their coffee is fucking awful</td>\n",
       "      <td>-1.0</td>\n",
       "      <td>1</td>\n",
       "      <td>0</td>\n",
       "      <td>29</td>\n",
       "    </tr>\n",
       "    <tr>\n",
       "      <th>2473</th>\n",
       "      <td>2020-03-19 11:22:00</td>\n",
       "      <td>+44 7957 134271</td>\n",
       "      <td>I’m not saying the world is gonna end but be p...</td>\n",
       "      <td>-1.0</td>\n",
       "      <td>0</td>\n",
       "      <td>1</td>\n",
       "      <td>67</td>\n",
       "    </tr>\n",
       "    <tr>\n",
       "      <th>2546</th>\n",
       "      <td>2020-03-19 12:47:00</td>\n",
       "      <td>Nathan Woods</td>\n",
       "      <td>Worst camera positioning everrrr</td>\n",
       "      <td>-1.0</td>\n",
       "      <td>0</td>\n",
       "      <td>0</td>\n",
       "      <td>32</td>\n",
       "    </tr>\n",
       "    <tr>\n",
       "      <th>2810</th>\n",
       "      <td>2020-03-20 11:06:00</td>\n",
       "      <td>Ben Huchinson</td>\n",
       "      <td>Looool init worst lip syncing ever 😂😂</td>\n",
       "      <td>-1.0</td>\n",
       "      <td>0</td>\n",
       "      <td>2</td>\n",
       "      <td>37</td>\n",
       "    </tr>\n",
       "    <tr>\n",
       "      <th>...</th>\n",
       "      <td>...</td>\n",
       "      <td>...</td>\n",
       "      <td>...</td>\n",
       "      <td>...</td>\n",
       "      <td>...</td>\n",
       "      <td>...</td>\n",
       "      <td>...</td>\n",
       "    </tr>\n",
       "    <tr>\n",
       "      <th>97581</th>\n",
       "      <td>2024-05-20 15:45:00</td>\n",
       "      <td>Ryan Rees</td>\n",
       "      <td>Yeah I read that this morning, bloody dreading...</td>\n",
       "      <td>-1.0</td>\n",
       "      <td>0</td>\n",
       "      <td>1</td>\n",
       "      <td>50</td>\n",
       "    </tr>\n",
       "    <tr>\n",
       "      <th>97851</th>\n",
       "      <td>2024-05-30 19:52:00</td>\n",
       "      <td>Paul Martin</td>\n",
       "      <td>Bloody hell you're tanned mate!</td>\n",
       "      <td>-1.0</td>\n",
       "      <td>0</td>\n",
       "      <td>2</td>\n",
       "      <td>31</td>\n",
       "    </tr>\n",
       "    <tr>\n",
       "      <th>99036</th>\n",
       "      <td>2024-08-21 19:46:00</td>\n",
       "      <td>Ryan Rees</td>\n",
       "      <td>Insane garage</td>\n",
       "      <td>-1.0</td>\n",
       "      <td>0</td>\n",
       "      <td>0</td>\n",
       "      <td>13</td>\n",
       "    </tr>\n",
       "    <tr>\n",
       "      <th>99091</th>\n",
       "      <td>2024-08-26 20:27:00</td>\n",
       "      <td>George Walker</td>\n",
       "      <td>Bloody ell congrats geez !!  Xx</td>\n",
       "      <td>-1.0</td>\n",
       "      <td>0</td>\n",
       "      <td>2</td>\n",
       "      <td>31</td>\n",
       "    </tr>\n",
       "    <tr>\n",
       "      <th>99541</th>\n",
       "      <td>2024-10-10 14:08:00</td>\n",
       "      <td>Tom Fain</td>\n",
       "      <td>It’s an awful song</td>\n",
       "      <td>-1.0</td>\n",
       "      <td>0</td>\n",
       "      <td>1</td>\n",
       "      <td>18</td>\n",
       "    </tr>\n",
       "  </tbody>\n",
       "</table>\n",
       "<p>387 rows × 7 columns</p>\n",
       "</div>"
      ],
      "text/plain": [
       "                Timestamp           Sender  \\\n",
       "976   2020-03-15 14:27:00  Alex Sloane xxx   \n",
       "1875  2020-03-18 12:10:00             Mike   \n",
       "2473  2020-03-19 11:22:00  +44 7957 134271   \n",
       "2546  2020-03-19 12:47:00     Nathan Woods   \n",
       "2810  2020-03-20 11:06:00    Ben Huchinson   \n",
       "...                   ...              ...   \n",
       "97581 2024-05-20 15:45:00        Ryan Rees   \n",
       "97851 2024-05-30 19:52:00      Paul Martin   \n",
       "99036 2024-08-21 19:46:00        Ryan Rees   \n",
       "99091 2024-08-26 20:27:00    George Walker   \n",
       "99541 2024-10-10 14:08:00         Tom Fain   \n",
       "\n",
       "                                                 Message  Sentiment  n_fucks  \\\n",
       "976    Looked like the worst skier out of all of us.....       -1.0        0   \n",
       "1875                       Their coffee is fucking awful       -1.0        1   \n",
       "2473   I’m not saying the world is gonna end but be p...       -1.0        0   \n",
       "2546                    Worst camera positioning everrrr       -1.0        0   \n",
       "2810               Looool init worst lip syncing ever 😂😂       -1.0        0   \n",
       "...                                                  ...        ...      ...   \n",
       "97581  Yeah I read that this morning, bloody dreading...       -1.0        0   \n",
       "97851                    Bloody hell you're tanned mate!       -1.0        0   \n",
       "99036                                      Insane garage       -1.0        0   \n",
       "99091                    Bloody ell congrats geez !!  Xx       -1.0        0   \n",
       "99541                                 It’s an awful song       -1.0        0   \n",
       "\n",
       "       Emoji Count  message_len  \n",
       "976              3           53  \n",
       "1875             0           29  \n",
       "2473             1           67  \n",
       "2546             0           32  \n",
       "2810             2           37  \n",
       "...            ...          ...  \n",
       "97581            1           50  \n",
       "97851            2           31  \n",
       "99036            0           13  \n",
       "99091            2           31  \n",
       "99541            1           18  \n",
       "\n",
       "[387 rows x 7 columns]"
      ]
     },
     "execution_count": 24,
     "metadata": {},
     "output_type": "execute_result"
    }
   ],
   "source": [
    "df[df['Sentiment'] == df['Sentiment'].min()]"
   ]
  },
  {
   "cell_type": "code",
   "execution_count": 9,
   "metadata": {},
   "outputs": [],
   "source": [
    "df['n_fucks'] = df['Message'].str.lower().str.count('fuck')"
   ]
  },
  {
   "cell_type": "code",
   "execution_count": null,
   "metadata": {},
   "outputs": [],
   "source": []
  },
  {
   "cell_type": "code",
   "execution_count": 25,
   "metadata": {},
   "outputs": [],
   "source": [
    "df['n_gay'] = df['Message'].str.lower().str.count('gay')"
   ]
  },
  {
   "cell_type": "code",
   "execution_count": 36,
   "metadata": {},
   "outputs": [
    {
     "data": {
      "text/plain": [
       "Sender\n",
       "+351 926 233 694        1\n",
       "+351 930 642 050        2\n",
       "+351 932 720 693        1\n",
       "+44 7957 134271         1\n",
       "Alex Sloane xxx         2\n",
       "Ben Huchinson           2\n",
       "George Walker           1\n",
       "Jamie Collinge          2\n",
       "Jl                      2\n",
       "Jordan Eves             8\n",
       "Laurens Whittingham     1\n",
       "Mike                    6\n",
       "Nathan Woods            4\n",
       "Ollie Sales             6\n",
       "Paul Martin            19\n",
       "Raad Alani             14\n",
       "Ryan Rees               9\n",
       "Skelly                  1\n",
       "Tom Fain                2\n",
       "Name: Message, dtype: int64"
      ]
     },
     "execution_count": 36,
     "metadata": {},
     "output_type": "execute_result"
    }
   ],
   "source": [
    "df[df['Message'].str.lower().str.contains('gay')].groupby('Sender')['Message'].count()"
   ]
  },
  {
   "cell_type": "code",
   "execution_count": 28,
   "metadata": {},
   "outputs": [
    {
     "data": {
      "text/plain": [
       "Sender\n",
       "Paul Martin            19\n",
       "Raad Alani             15\n",
       "Ryan Rees               9\n",
       "Jordan Eves             8\n",
       "Ollie Sales             7\n",
       "Mike                    6\n",
       "Nathan Woods            4\n",
       "Tom Fain                3\n",
       "Ben Huchinson           2\n",
       "Jamie Collinge          2\n",
       "Alex Sloane xxx         2\n",
       "+351 930 642 050        2\n",
       "Jl                      2\n",
       "+44 7957 134271         1\n",
       "+351 926 233 694        1\n",
       "+351 932 720 693        1\n",
       "George Walker           1\n",
       "Laurens Whittingham     1\n",
       "Skelly                  1\n",
       "Chris Williams          0\n",
       "Name: n_gay, dtype: int64"
      ]
     },
     "execution_count": 28,
     "metadata": {},
     "output_type": "execute_result"
    }
   ],
   "source": [
    "df.groupby('Sender')['n_gay'].sum().sort_values(ascending=False)\n",
    "# ((df.groupby('Sender')['n_fucks'].sum() / df.groupby('Sender')['Message'].count()) * 100).sort_values().plot(kind='bar')"
   ]
  },
  {
   "cell_type": "code",
   "execution_count": 17,
   "metadata": {},
   "outputs": [
    {
     "data": {
      "text/plain": [
       "<Axes: xlabel='Sender'>"
      ]
     },
     "execution_count": 17,
     "metadata": {},
     "output_type": "execute_result"
    },
    {
     "data": {
      "image/png": "[encoded data removed]",
      "text/plain": [
       "<Figure size 640x480 with 1 Axes>"
      ]
     },
     "metadata": {},
     "output_type": "display_data"
    }
   ],
   "source": [
    "((df.groupby('Sender')['n_fucks'].sum() / df.groupby('Sender')['Message'].count()) * 100).sort_values().plot(kind='bar')"
   ]
  },
  {
   "cell_type": "code",
   "execution_count": 11,
   "metadata": {},
   "outputs": [],
   "source": [
    "emoji_pattern = r'[^\\w\\s,]'\n",
    "df['Emoji Count'] = df['Message'].apply(lambda x: len(re.findall(emoji_pattern, x)))"
   ]
  },
  {
   "cell_type": "code",
   "execution_count": 12,
   "metadata": {},
   "outputs": [],
   "source": [
    "df['message_len'] = df['Message'].str.len()"
   ]
  },
  {
   "cell_type": "code",
   "execution_count": 16,
   "metadata": {},
   "outputs": [
    {
     "data": {
      "text/plain": [
       "<Axes: xlabel='Sender'>"
      ]
     },
     "execution_count": 16,
     "metadata": {},
     "output_type": "execute_result"
    },
    {
     "data": {
      "image/png": "[encoded data removed]",
      "text/plain": [
       "<Figure size 640x480 with 1 Axes>"
      ]
     },
     "metadata": {},
     "output_type": "display_data"
    }
   ],
   "source": [
    "((df.groupby('Sender')['Emoji Count'].sum() / df.groupby('Sender')['message_len'].sum()) * 100).sort_values()[10:].plot(kind='bar')"
   ]
  },
  {
   "cell_type": "code",
   "execution_count": null,
   "metadata": {},
   "outputs": [],
   "source": []
  }
 ],
 "metadata": {
  "kernelspec": {
   "display_name": ".venv",
   "language": "python",
   "name": "python3"
  },
  "language_info": {
   "codemirror_mode": {
    "name": "ipython",
    "version": 3
   },
   "file_extension": ".py",
   "mimetype": "text/x-python",
   "name": "python",
   "nbconvert_exporter": "python",
   "pygments_lexer": "ipython3",
   "version": "3.13.0"
  }
 },
 "nbformat": 4,
 "nbformat_minor": 2
}
